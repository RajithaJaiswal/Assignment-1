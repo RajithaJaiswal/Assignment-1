{
 "cells": [
  {
   "cell_type": "markdown",
   "id": "2888bc6f",
   "metadata": {},
   "source": [
    "1. In the below elements which of them are values or an expression? eg:- values can be integer or string and expressions will be mathematical operators.\n",
    "* \n",
    "'hello'\n",
    "-87.8\n",
    "- \n",
    "/ \n",
    "+\t\n",
    "6 \n",
    "\n",
    "2. What is the difference between string and variable?\n",
    "\n",
    "3. Describe three different data types.\n",
    "\n",
    "4. What is an expression made up of? What do all expressions do?\n",
    "5. This assignment statements, like spam = 10. What is the difference between an expression and a statement?\n",
    "6. After running the following code, what does the variable bacon contain?\n",
    "bacon = 22\n",
    "bacon + 1\n",
    "\n",
    "7. What should the values of the following two terms be?\n",
    "'spam' + 'spamspam'\n",
    "c\n",
    "\n",
    "8. Why is eggs a valid variable name while 100 is invalid?\n",
    "9. What three functions can be used to get the integer, floating-point number, or string version of a value?\n",
    "10. Why does this expression cause an error? How can you fix it?\n",
    "'I have eaten ' + 99 + ' burritos.'\n",
    "\n",
    "\n"
   ]
  },
  {
   "cell_type": "markdown",
   "id": "429c1aa1",
   "metadata": {},
   "source": [
    "1.*  expression\n",
    "  'hello' value\n",
    "  -87.8  value\n",
    "  -  expression \n",
    "  / expression\n",
    "  + expression\n",
    "  6 value"
   ]
  },
  {
   "cell_type": "markdown",
   "id": "e8a794b8",
   "metadata": {},
   "source": [
    "2.string:it will be written in quotes.its may be in single word or multple words or complete line.ex:\"my name is rajitha\"\n",
    "  variable:it is a name that is used to refer to memory location and used to hold values.the first character of the variable must be in an alphabet or underscore."
   ]
  },
  {
   "cell_type": "markdown",
   "id": "aec09a46",
   "metadata": {},
   "source": [
    "3.float: data can be stored in floating values.ex:20.06\n",
    "list:multple data store in a single variable.[1,2,3,4]\n",
    "integer:it can be stored only numerical values."
   ]
  },
  {
   "cell_type": "markdown",
   "id": "c097415d",
   "metadata": {},
   "source": [
    "4.expressions:An expression is a combination of operators,constants and variables.expressions are representations of values."
   ]
  },
  {
   "cell_type": "markdown",
   "id": "c3933122",
   "metadata": {},
   "source": [
    "5.expression is a combination of variables,operations and values that yields a results.\n",
    "statements represent an action or command."
   ]
  },
  {
   "cell_type": "code",
   "execution_count": 13,
   "id": "6d519b4b",
   "metadata": {},
   "outputs": [],
   "source": [
    "bacon=22"
   ]
  },
  {
   "cell_type": "code",
   "execution_count": 11,
   "id": "a064960a",
   "metadata": {},
   "outputs": [
    {
     "data": {
      "text/plain": [
       "23"
      ]
     },
     "execution_count": 11,
     "metadata": {},
     "output_type": "execute_result"
    }
   ],
   "source": [
    "bacon+1"
   ]
  },
  {
   "cell_type": "code",
   "execution_count": 14,
   "id": "c08c475a",
   "metadata": {},
   "outputs": [
    {
     "data": {
      "text/plain": [
       "'spamspamspam'"
      ]
     },
     "execution_count": 14,
     "metadata": {},
     "output_type": "execute_result"
    }
   ],
   "source": [
    "'spam' + 'spamspam'"
   ]
  },
  {
   "cell_type": "code",
   "execution_count": 18,
   "id": "6cc49f49",
   "metadata": {},
   "outputs": [
    {
     "data": {
      "text/plain": [
       "'spamspamspam'"
      ]
     },
     "execution_count": 18,
     "metadata": {},
     "output_type": "execute_result"
    }
   ],
   "source": [
    "'spam' *3"
   ]
  },
  {
   "cell_type": "markdown",
   "id": "fc9138e0",
   "metadata": {},
   "source": [
    "8.variable names cannot begin with a number.the first charecter of the variable must be in alphabet or underscore.100 is invalid.eggs100 is valid."
   ]
  },
  {
   "cell_type": "markdown",
   "id": "95d026a7",
   "metadata": {},
   "source": [
    "9.int(),\n",
    "float(),\n",
    "str()"
   ]
  },
  {
   "cell_type": "markdown",
   "id": "8515c4c1",
   "metadata": {},
   "source": [
    "10.yes,the expression caues an error because 99 is an integer,and only strings can be concatenated to other strings with the + operTOR.\n",
    "the correct way is:      \n",
    "'i have eaten'+str(99)+'burritos'"
   ]
  }
 ],
 "metadata": {
  "kernelspec": {
   "display_name": "Python 3 (ipykernel)",
   "language": "python",
   "name": "python3"
  },
  "language_info": {
   "codemirror_mode": {
    "name": "ipython",
    "version": 3
   },
   "file_extension": ".py",
   "mimetype": "text/x-python",
   "name": "python",
   "nbconvert_exporter": "python",
   "pygments_lexer": "ipython3",
   "version": "3.9.12"
  }
 },
 "nbformat": 4,
 "nbformat_minor": 5
}
